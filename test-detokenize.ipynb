{
 "cells": [
  {
   "cell_type": "markdown",
   "id": "db525f4c-40b9-4fd5-aa9d-a7eef47c3311",
   "metadata": {
    "tags": []
   },
   "source": [
    "# Working example with modifying tokenization"
   ]
  },
  {
   "cell_type": "code",
   "execution_count": 17,
   "id": "9e39d8da-a231-4e01-9126-31ab2692c463",
   "metadata": {
    "tags": []
   },
   "outputs": [],
   "source": [
    "import nltk\n",
    "from nltk.tokenize import word_tokenize, TreebankWordDetokenizer\n",
    "from nltk.tag import pos_tag\n",
    "from nltk.tokenize.treebank import TreebankWordTokenizer, TreebankWordDetokenizer\n"
   ]
  },
  {
   "cell_type": "code",
   "execution_count": 2,
   "id": "8226e64c-a7c7-4715-a0f0-295a137e201e",
   "metadata": {
    "tags": []
   },
   "outputs": [],
   "source": [
    "text = \"John and Mary went to the park. They met their friend, Bob, who was playing basketball. John and Mary joined Bob in the game.\"\n"
   ]
  },
  {
   "cell_type": "code",
   "execution_count": 21,
   "id": "b4d45cec-8487-4c5c-9185-e7d1ca951fde",
   "metadata": {
    "tags": []
   },
   "outputs": [
    {
     "data": {
      "text/plain": [
       "'John and Mary went to the park. They met their friend, Bob, who was playing basketball. John and Mary joined Bob in the game.'"
      ]
     },
     "execution_count": 21,
     "metadata": {},
     "output_type": "execute_result"
    }
   ],
   "source": [
    "t = TreebankWordTokenizer()\n",
    "d = TreebankWordDetokenizer()\n",
    "toks = t.tokenize(text)\n",
    "d.detokenize(toks)"
   ]
  },
  {
   "cell_type": "code",
   "execution_count": 24,
   "id": "12474f5c-58e6-4046-8cc0-5eaccca9fb1d",
   "metadata": {
    "tags": []
   },
   "outputs": [],
   "source": [
    "tagged_words = pos_tag(toks)"
   ]
  },
  {
   "cell_type": "code",
   "execution_count": 29,
   "id": "a900af59-a5e1-4b17-8594-c713ae09ce74",
   "metadata": {
    "tags": []
   },
   "outputs": [],
   "source": [
    "ne_tree = ne_chunk(tagged_words)\n"
   ]
  },
  {
   "cell_type": "code",
   "execution_count": 4,
   "id": "9b5350f4-7d36-4557-9688-43fbf3f91761",
   "metadata": {
    "tags": []
   },
   "outputs": [],
   "source": [
    "filtered_words = [word for word, tag in tagged_words if tag not in ('NNP', 'PRP')]\n"
   ]
  },
  {
   "cell_type": "code",
   "execution_count": 25,
   "id": "f0eabcc3-5a77-44e2-8aa9-adc1102cc4fa",
   "metadata": {
    "tags": []
   },
   "outputs": [],
   "source": [
    "filtered_words = [tag[0] if tag[1] not in ('NNP', 'PRP') else \"PERSON\" for tag in tagged_words]\n"
   ]
  },
  {
   "cell_type": "code",
   "execution_count": 26,
   "id": "04284e14-6bca-4641-8a74-d1243f2cf4ef",
   "metadata": {
    "tags": []
   },
   "outputs": [],
   "source": [
    "detokenizer = TreebankWordDetokenizer()\n",
    "filtered_text = detokenizer.detokenize(filtered_words)"
   ]
  },
  {
   "cell_type": "code",
   "execution_count": 27,
   "id": "f7707c16-cb70-4b58-ac82-68932e6a1f3d",
   "metadata": {
    "tags": []
   },
   "outputs": [
    {
     "data": {
      "text/plain": [
       "'PERSON and PERSON went to the park. PERSON met their friend, PERSON, who was playing basketball. PERSON and PERSON joined PERSON in the game.'"
      ]
     },
     "execution_count": 27,
     "metadata": {},
     "output_type": "execute_result"
    }
   ],
   "source": [
    "filtered_text"
   ]
  },
  {
   "cell_type": "code",
   "execution_count": 14,
   "id": "4eb4ab3a-ff0c-46c0-974d-7e87e9ea54f9",
   "metadata": {
    "tags": []
   },
   "outputs": [
    {
     "data": {
      "text/plain": [
       "[('John', 'NNP'),\n",
       " ('and', 'CC'),\n",
       " ('Mary', 'NNP'),\n",
       " ('went', 'VBD'),\n",
       " ('to', 'TO'),\n",
       " ('the', 'DT'),\n",
       " ('park', 'NN'),\n",
       " ('.', '.'),\n",
       " ('They', 'PRP'),\n",
       " ('met', 'VBD'),\n",
       " ('their', 'PRP$'),\n",
       " ('friend', 'NN'),\n",
       " (',', ','),\n",
       " ('Bob', 'NNP'),\n",
       " (',', ','),\n",
       " ('who', 'WP'),\n",
       " ('was', 'VBD'),\n",
       " ('playing', 'VBG'),\n",
       " ('basketball', 'NN'),\n",
       " ('.', '.'),\n",
       " ('John', 'NNP'),\n",
       " ('and', 'CC'),\n",
       " ('Mary', 'NNP'),\n",
       " ('joined', 'VBD'),\n",
       " ('Bob', 'NNP'),\n",
       " ('in', 'IN'),\n",
       " ('the', 'DT'),\n",
       " ('game', 'NN'),\n",
       " ('.', '.')]"
      ]
     },
     "execution_count": 14,
     "metadata": {},
     "output_type": "execute_result"
    }
   ],
   "source": [
    "tagged_words"
   ]
  },
  {
   "cell_type": "code",
   "execution_count": null,
   "id": "0b35b8ce-0b3e-4e61-8ad6-22e616105d19",
   "metadata": {},
   "outputs": [],
   "source": []
  }
 ],
 "metadata": {
  "kernelspec": {
   "display_name": "Python 3 (ipykernel)",
   "language": "python",
   "name": "python3"
  },
  "language_info": {
   "codemirror_mode": {
    "name": "ipython",
    "version": 3
   },
   "file_extension": ".py",
   "mimetype": "text/x-python",
   "name": "python",
   "nbconvert_exporter": "python",
   "pygments_lexer": "ipython3",
   "version": "3.10.9"
  }
 },
 "nbformat": 4,
 "nbformat_minor": 5
}
