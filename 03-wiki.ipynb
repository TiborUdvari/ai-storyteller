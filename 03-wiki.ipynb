{
 "cells": [
  {
   "cell_type": "code",
   "execution_count": 1,
   "id": "0fb35dc8-01c5-489d-a6e8-73ee1805bf01",
   "metadata": {
    "tags": []
   },
   "outputs": [
    {
     "name": "stdout",
     "output_type": "stream",
     "text": [
      "Collecting mwparserfromhell\n",
      "  Downloading mwparserfromhell-0.6.4-cp310-cp310-manylinux_2_17_x86_64.manylinux2014_x86_64.whl (190 kB)\n",
      "\u001b[2K     \u001b[90m━━━━━━━━━━━━━━━━━━━━━━━━━━━━━━━━━━━━━━━\u001b[0m \u001b[32m190.6/190.6 kB\u001b[0m \u001b[31m1.4 MB/s\u001b[0m eta \u001b[36m0:00:00\u001b[0ma \u001b[36m0:00:01\u001b[0m\n",
      "\u001b[?25hInstalling collected packages: mwparserfromhell\n",
      "Successfully installed mwparserfromhell-0.6.4\n"
     ]
    }
   ],
   "source": [
    "!pip install mwparserfromhell\n"
   ]
  },
  {
   "cell_type": "code",
   "execution_count": 6,
   "id": "f446cab2-605d-470c-a590-9aae296a29c4",
   "metadata": {
    "tags": []
   },
   "outputs": [],
   "source": [
    "import mwparserfromhell\n",
    "\n",
    "\n",
    "wikicode = mwparserfromhell.parse(contents)\n",
    "\n",
    "# Extracting plain text from wikicode\n",
    "plaintext = wikicode.strip_code()\n",
    "\n",
    "# Extracting templates in wikicode\n",
    "templates = wikicode.filter_templates()\n",
    "\n",
    "# Iterating over all templates\n",
    "for template in templates:\n",
    "    # Get the name of the template\n",
    "    name = template.name.strip()\n",
    "\n",
    "    # Get the parameters of the template\n",
    "    params = template.params\n",
    "\n",
    "    # Extract the values of the parameters\n",
    "    for param in params:\n",
    "        value = param.value.strip()"
   ]
  },
  {
   "cell_type": "code",
   "execution_count": 5,
   "id": "d69e2ac7-127d-4008-aaca-d06d5934022c",
   "metadata": {
    "tags": []
   },
   "outputs": [],
   "source": [
    "with open(\"wiki-test.txt\", \"r\") as file:\n",
    "    # Read the contents of the file into a string\n",
    "    contents = file.read()"
   ]
  },
  {
   "cell_type": "code",
   "execution_count": 30,
   "id": "51179fa9-3774-409f-9bd6-51603419476a",
   "metadata": {
    "tags": []
   },
   "outputs": [
    {
     "name": "stdout",
     "output_type": "stream",
     "text": [
      "Magrathea is an ancient planet located in orbit around the twin suns Soulianis and Rahm in the heart of the Horsehead Nebula.\n",
      "\n",
      "It was the home of a new form of specialist industry: custom-made, luxury planet building. Hyperspatial engineers sucked matter through white holes in space to form dream planets - gold planets, square planets, glass planets, platinum planets, soft rubber planets with lots of earthquakes, planets covered with fish - all lovingly made to meet the exacting standards that the Galaxy's richest men naturally came to expect.\n",
      "\n",
      "It was the Magratheans who constructed the planet-sized computer, Earth (for a race of hyperintelligent pan-dimensional beings, the mice and designed by Deep Thought), to determine the ultimate question of Life, the Universe, and Everything, which is required to understand the Answer to Life, the Universe, and Everything.\n",
      "\n",
      "Unfortunately, the venture was so successful that Magrathea soon became the richest planet of all time and the rest of the Galaxy was reduced to abject poverty. The Magratheans went into hibernation, awaiting an economic recovery that could afford their services once more. Mostly everyone except Slartibartfast is seen to be in hibernation.\n",
      "\n",
      "Magrathea itself disappeared and its memory soon passed into the obscurity of legend.\n",
      "\n",
      "In these enlightened days, of course, no one believes a word of it.\n",
      "\n",
      "The Heart of Gold and its occupants arrive at Magrathea.From the book The Hitchhiker's Guide to the Galaxy.\n",
      "\n",
      "The planet Nano is built by the Magratheans.From the novel And Another Thing....\n"
     ]
    }
   ],
   "source": [
    "# Get a list of all the sections\n",
    "sections = wikicode.get_sections()\n",
    "\n",
    "skip_titles = [\"Notes and references\", \"Behind the scenes\", \"Appearances\"]\n",
    "\n",
    "# Loop over the sections and extract the text\n",
    "for section in sections:\n",
    "    #print(section.filter_headings())\n",
    "    # Get the title of the section and remove any whitespace\n",
    "    #title = section.filter_headings()[0].title.strip()\n",
    "    heading_nodes = section.filter_headings()\n",
    "\n",
    "    if len(heading_nodes) == 0:\n",
    "        title = \"Unnamed section\"\n",
    "    else:\n",
    "        title = heading_nodes[0].title.strip()\n",
    "    \n",
    "    # Get the text of the section\n",
    "    text = section.strip()\n",
    "    text = section.strip_code()\n",
    "    # Print the section title and text\n",
    "    if title not in skip_titles:\n",
    "        print(text)\n",
    "    #print(f\"{title}: {text}\")\n"
   ]
  }
 ],
 "metadata": {
  "kernelspec": {
   "display_name": "Python 3 (ipykernel)",
   "language": "python",
   "name": "python3"
  },
  "language_info": {
   "codemirror_mode": {
    "name": "ipython",
    "version": 3
   },
   "file_extension": ".py",
   "mimetype": "text/x-python",
   "name": "python",
   "nbconvert_exporter": "python",
   "pygments_lexer": "ipython3",
   "version": "3.10.9"
  }
 },
 "nbformat": 4,
 "nbformat_minor": 5
}
